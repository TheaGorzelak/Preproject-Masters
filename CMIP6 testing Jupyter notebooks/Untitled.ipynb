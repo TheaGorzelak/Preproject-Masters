{
 "cells": [
  {
   "cell_type": "code",
   "execution_count": 1,
   "id": "db1ead1b",
   "metadata": {},
   "outputs": [],
   "source": [
    "import atlite\n",
    "import logging\n",
    "logging.basicConfig(level=logging.INFO)"
   ]
  },
  {
   "cell_type": "code",
   "execution_count": 3,
   "id": "6371aaa8",
   "metadata": {},
   "outputs": [],
   "source": [
    "cutout_AT_2015 = atlite.Cutout(\n",
    "    path=\"AT_2015.nc\",\n",
    "    module=\"era5\",\n",
    "    x=slice(9.418, 17.181),    #Longitude\n",
    "    y=slice(46.373 , 49.005), #Latitude\n",
    "    time=slice(\"2015-01\",\"2015-12\")\n",
    ")"
   ]
  },
  {
   "cell_type": "code",
   "execution_count": 4,
   "id": "e7f42054",
   "metadata": {},
   "outputs": [
    {
     "name": "stderr",
     "output_type": "stream",
     "text": [
      "                                                    \r"
     ]
    },
    {
     "name": "stdout",
     "output_type": "stream",
     "text": [
      "[########################################] | 100% Completed | 23.80 s\n"
     ]
    },
    {
     "data": {
      "text/plain": [
       "<Cutout \"AT_2015\">\n",
       " x = 9.50 ⟷ 17.00, dx = 0.25\n",
       " y = 46.50 ⟷ 49.00, dy = 0.25\n",
       " time = 2015-01-01 ⟷ 2015-12-31, dt = H\n",
       " module = era5\n",
       " prepared_features = ['height', 'wind', 'influx', 'temperature', 'runoff']"
      ]
     },
     "execution_count": 4,
     "metadata": {},
     "output_type": "execute_result"
    }
   ],
   "source": [
    "cutout_AT_2015.prepare()"
   ]
  },
  {
   "cell_type": "code",
   "execution_count": null,
   "id": "08b5c47f",
   "metadata": {},
   "outputs": [],
   "source": []
  }
 ],
 "metadata": {
  "kernelspec": {
   "display_name": "Python 3 (ipykernel)",
   "language": "python",
   "name": "python3"
  },
  "language_info": {
   "codemirror_mode": {
    "name": "ipython",
    "version": 3
   },
   "file_extension": ".py",
   "mimetype": "text/x-python",
   "name": "python",
   "nbconvert_exporter": "python",
   "pygments_lexer": "ipython3",
   "version": "3.9.16"
  }
 },
 "nbformat": 4,
 "nbformat_minor": 5
}
